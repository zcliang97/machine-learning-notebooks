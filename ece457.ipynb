{
 "cells": [
  {
   "cell_type": "markdown",
   "metadata": {},
   "source": [
    "# ECE457A: Cooperative and Adaptive Algorithms"
   ]
  },
  {
   "cell_type": "markdown",
   "metadata": {},
   "source": [
    "## Lecture 1\n",
    "**Well Structured Problems**: existing state and desired state are clearly defined and methods to reach the desired state are fairly obvious.\n",
    "\n",
    "**Ill Structured Problems**: existing and desired states are unclear and therefore methods to reach the desired state cannot be found.\n",
    "\n",
    "**Optimization Problem**: problem of finding the \"best\" solution from all feasible solutions subject to a set of constraints\n",
    "\n",
    "**Heuristics**: information given to the agent that can help attain the goal\n",
    "\n",
    "Optimization Methods:\n",
    "* Constructive Method\n",
    "* Local search method\n",
    "\n",
    "Goal-based Search\n",
    "* limit search\n",
    "* termination condition\n",
    "\n",
    "Utility-based Search\n",
    "* cost function\n",
    "* inital state\n",
    "* state space\n",
    "* set of actions\n",
    "* goal state\n",
    "\n",
    "Problem Formulation (of a well-structured problem):\n",
    "* state representation\n",
    "* inital state\n",
    "* goal state & goal test\n",
    "* constraints\n",
    "* actions\n",
    "\n"
   ]
  },
  {
   "cell_type": "code",
   "execution_count": null,
   "metadata": {},
   "outputs": [],
   "source": []
  }
 ],
 "metadata": {
  "kernelspec": {
   "display_name": "Python 3",
   "language": "python",
   "name": "python3"
  },
  "language_info": {
   "codemirror_mode": {
    "name": "ipython",
    "version": 3
   },
   "file_extension": ".py",
   "mimetype": "text/x-python",
   "name": "python",
   "nbconvert_exporter": "python",
   "pygments_lexer": "ipython3",
   "version": "3.7.1"
  }
 },
 "nbformat": 4,
 "nbformat_minor": 2
}
